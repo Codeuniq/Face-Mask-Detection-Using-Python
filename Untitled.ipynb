{
 "cells": [
  {
   "cell_type": "code",
   "execution_count": 7,
   "id": "athletic-characterization",
   "metadata": {},
   "outputs": [],
   "source": [
    "from keras.optimizers import RMSprop\n",
    "from keras.preprocessing.image import ImageDataGenerator\n",
    "import cv2\n",
    "from keras.models import Sequential\n",
    "from keras.layers import Conv2D, Input, ZeroPadding2D, BatchNormalization, Activation, MaxPooling2D, Flatten, Dense,Dropout\n",
    "from keras.models import Model, load_model\n",
    "from keras.callbacks import TensorBoard, ModelCheckpoint\n",
    "from sklearn.model_selection import train_test_split\n",
    "from sklearn.metrics import f1_score\n",
    "from sklearn.utils import shuffle\n",
    "import imutils\n",
    "import numpy as np\n"
   ]
  },
  {
   "cell_type": "code",
   "execution_count": 8,
   "id": "indirect-twins",
   "metadata": {},
   "outputs": [],
   "source": [
    "model = Sequential([\n",
    "    Conv2D(100, (3,3), activation='relu', input_shape=(150, 150, 3)),\n",
    "    MaxPooling2D(2,2),\n",
    "    \n",
    "    Conv2D(100, (3,3), activation='relu'),\n",
    "    MaxPooling2D(2,2),\n",
    "    \n",
    "    Flatten(),\n",
    "    Dropout(0.5),\n",
    "    Dense(50, activation='relu'),\n",
    "    Dense(2, activation='softmax')\n",
    "])\n",
    "model.compile(optimizer='adam', loss='binary_crossentropy', metrics=['acc'])"
   ]
  },
  {
   "cell_type": "code",
   "execution_count": 11,
   "id": "breathing-mobility",
   "metadata": {},
   "outputs": [
    {
     "name": "stdout",
     "output_type": "stream",
     "text": [
      "Found 1315 images belonging to 2 classes.\n",
      "Found 194 images belonging to 2 classes.\n"
     ]
    }
   ],
   "source": [
    "TRAINING_DIR = \"./Datasets/train\"\n",
    "train_datagen = ImageDataGenerator(rescale=1.0/255,\n",
    "                                   rotation_range=40,\n",
    "                                   width_shift_range=0.2,\n",
    "                                   height_shift_range=0.2,\n",
    "                                   shear_range=0.2,\n",
    "                                   zoom_range=0.2,\n",
    "                                   horizontal_flip=True,\n",
    "                                   fill_mode='nearest')\n",
    "\n",
    "train_generator = train_datagen.flow_from_directory(TRAINING_DIR, \n",
    "                                                    batch_size=10, \n",
    "                                                    target_size=(150, 150))\n",
    "VALIDATION_DIR = \"./Datasets/test\"\n",
    "validation_datagen = ImageDataGenerator(rescale=1.0/255)\n",
    "\n",
    "validation_generator = validation_datagen.flow_from_directory(VALIDATION_DIR, \n",
    "                                                         batch_size=10, \n",
    "                                                         target_size=(150, 150))"
   ]
  },
  {
   "cell_type": "code",
   "execution_count": 12,
   "id": "progressive-integration",
   "metadata": {},
   "outputs": [],
   "source": [
    "checkpoint = ModelCheckpoint('model2-{epoch:03d}.model',monitor='val_loss',verbose=0,save_best_only=True,mode='auto')\n"
   ]
  },
  {
   "cell_type": "code",
   "execution_count": 13,
   "id": "twenty-detector",
   "metadata": {},
   "outputs": [
    {
     "name": "stderr",
     "output_type": "stream",
     "text": [
      "/home/efeone/.local/lib/python3.6/site-packages/tensorflow/python/keras/engine/training.py:1844: UserWarning: `Model.fit_generator` is deprecated and will be removed in a future version. Please use `Model.fit`, which supports generators.\n",
      "  warnings.warn('`Model.fit_generator` is deprecated and '\n"
     ]
    },
    {
     "name": "stdout",
     "output_type": "stream",
     "text": [
      "Epoch 1/10\n",
      "132/132 [==============================] - 73s 544ms/step - loss: 0.7046 - acc: 0.6174 - val_loss: 0.2459 - val_acc: 0.8814\n",
      "INFO:tensorflow:Assets written to: model2-001.model/assets\n",
      "Epoch 2/10\n",
      "132/132 [==============================] - 83s 630ms/step - loss: 0.3445 - acc: 0.8602 - val_loss: 0.2071 - val_acc: 0.9278\n",
      "INFO:tensorflow:Assets written to: model2-002.model/assets\n",
      "Epoch 3/10\n",
      "132/132 [==============================] - 95s 723ms/step - loss: 0.2978 - acc: 0.8810 - val_loss: 0.2140 - val_acc: 0.8866\n",
      "Epoch 4/10\n",
      "132/132 [==============================] - 96s 729ms/step - loss: 0.3098 - acc: 0.8787 - val_loss: 0.1302 - val_acc: 0.9485\n",
      "INFO:tensorflow:Assets written to: model2-004.model/assets\n",
      "Epoch 5/10\n",
      "132/132 [==============================] - 94s 713ms/step - loss: 0.2633 - acc: 0.8939 - val_loss: 0.1173 - val_acc: 0.9588\n",
      "INFO:tensorflow:Assets written to: model2-005.model/assets\n",
      "Epoch 6/10\n",
      "132/132 [==============================] - 106s 801ms/step - loss: 0.2421 - acc: 0.9079 - val_loss: 0.1190 - val_acc: 0.9433\n",
      "Epoch 7/10\n",
      "132/132 [==============================] - 91s 686ms/step - loss: 0.2339 - acc: 0.9077 - val_loss: 0.1319 - val_acc: 0.9433\n",
      "Epoch 8/10\n",
      "132/132 [==============================] - 91s 688ms/step - loss: 0.2612 - acc: 0.9204 - val_loss: 0.1442 - val_acc: 0.9278\n",
      "Epoch 9/10\n",
      "132/132 [==============================] - 90s 681ms/step - loss: 0.2115 - acc: 0.9243 - val_loss: 0.0498 - val_acc: 0.9845\n",
      "INFO:tensorflow:Assets written to: model2-009.model/assets\n",
      "Epoch 10/10\n",
      "132/132 [==============================] - 97s 739ms/step - loss: 0.2256 - acc: 0.9058 - val_loss: 0.1116 - val_acc: 0.9536\n"
     ]
    }
   ],
   "source": [
    "history = model.fit_generator(train_generator,\n",
    "                              epochs=10,\n",
    "                              validation_data=validation_generator,\n",
    "                              callbacks=[checkpoint])"
   ]
  },
  {
   "cell_type": "code",
   "execution_count": null,
   "id": "needed-welcome",
   "metadata": {},
   "outputs": [],
   "source": []
  },
  {
   "cell_type": "code",
   "execution_count": null,
   "id": "scientific-substance",
   "metadata": {},
   "outputs": [],
   "source": []
  }
 ],
 "metadata": {
  "kernelspec": {
   "display_name": "Python 3",
   "language": "python",
   "name": "python3"
  },
  "language_info": {
   "codemirror_mode": {
    "name": "ipython",
    "version": 3
   },
   "file_extension": ".py",
   "mimetype": "text/x-python",
   "name": "python",
   "nbconvert_exporter": "python",
   "pygments_lexer": "ipython3",
   "version": "3.6.9"
  }
 },
 "nbformat": 4,
 "nbformat_minor": 5
}
